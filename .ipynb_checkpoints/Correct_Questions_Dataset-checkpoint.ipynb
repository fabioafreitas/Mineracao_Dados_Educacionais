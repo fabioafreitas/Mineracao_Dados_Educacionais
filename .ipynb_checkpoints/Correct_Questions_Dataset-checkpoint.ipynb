{
 "cells": [
  {
   "cell_type": "code",
   "execution_count": 1,
   "metadata": {},
   "outputs": [],
   "source": [
    "import pandas as pd"
   ]
  },
  {
   "cell_type": "code",
   "execution_count": 4,
   "metadata": {},
   "outputs": [],
   "source": [
    "microdados_path = \"./microdados/MICRODADOS_ENEM_2016.csv\"\n",
    "\n",
    "accepted_columns = [\n",
    "    \"TP_PRESENCA_CN\",\"TP_PRESENCA_CH\",\"TP_PRESENCA_LC\",\"TP_PRESENCA_MT\",\n",
    "    \"CO_PROVA_CN\",\"CO_PROVA_CH\",\"CO_PROVA_LC\",\"CO_PROVA_MT\",\n",
    "    \"NU_NOTA_CN\",\"NU_NOTA_CH\",\"NU_NOTA_LC\",\"NU_NOTA_MT\",\n",
    "    \"TX_RESPOSTAS_CN\",\"TX_RESPOSTAS_CH\",\"TX_RESPOSTAS_LC\",\"TX_RESPOSTAS_MT\",\n",
    "    \"TX_GABARITO_CN\",\"TX_GABARITO_CH\",\"TX_GABARITO_LC\",\"TX_GABARITO_MT\"\n",
    "]\n",
    "\n",
    "offset = 0\n",
    "number_rows = 100\n",
    "df = pd.read_csv( microdados_path, encoding = \"ISO-8859-1\", engine='python', \\\n",
    "                    sep=\";\", skiprows=offset, nrows=number_rows, usecols=accepted_columns)\n"
   ]
  },
  {
   "cell_type": "code",
   "execution_count": null,
   "metadata": {},
   "outputs": [],
   "source": []
  }
 ],
 "metadata": {
  "kernelspec": {
   "display_name": "Python 3",
   "language": "python",
   "name": "python3"
  },
  "language_info": {
   "codemirror_mode": {
    "name": "ipython",
    "version": 3
   },
   "file_extension": ".py",
   "mimetype": "text/x-python",
   "name": "python",
   "nbconvert_exporter": "python",
   "pygments_lexer": "ipython3",
   "version": "3.7.4"
  }
 },
 "nbformat": 4,
 "nbformat_minor": 2
}
